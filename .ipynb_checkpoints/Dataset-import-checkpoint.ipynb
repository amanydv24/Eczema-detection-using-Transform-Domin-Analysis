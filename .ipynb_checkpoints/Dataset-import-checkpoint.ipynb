{
 "cells": [
  {
   "cell_type": "code",
   "execution_count": 2,
   "metadata": {},
   "outputs": [],
   "source": [
    "import os\n",
    "import pickle\n",
    "import cv2\n",
    "import numpy as np"
   ]
  },
  {
   "cell_type": "code",
   "execution_count": 3,
   "metadata": {},
   "outputs": [],
   "source": [
    "train_images1=[]\n",
    "train_labels1=[]\n",
    "folder='dataset/trainCrop'\n",
    "for filename in os.listdir(folder):\n",
    "    img = cv2.imread(os.path.join(folder,filename))\n",
    "    if img is not None:\n",
    "        if filename[:4]== \"mild\":\n",
    "            train_labels1.append(1)\n",
    "        elif filename[:6]==\"severe\":\n",
    "            train_labels1.append(2)\n",
    "        else:\n",
    "            train_labels1.append(0)\n",
    "        img = cv2.cvtColor(img, cv2.COLOR_RGB2GRAY)\n",
    "        train_images1.append(img)"
   ]
  },
  {
   "cell_type": "code",
   "execution_count": 4,
   "metadata": {},
   "outputs": [],
   "source": [
    "test_images1=[]\n",
    "test_labels1=[]\n",
    "folder='dataset/testCrop'\n",
    "for filename in os.listdir(folder):\n",
    "    img = cv2.imread(os.path.join(folder,filename))\n",
    "    if img is not None:\n",
    "        if filename[:4]== \"mild\":\n",
    "            test_labels1.append(1)\n",
    "        elif filename[:6]==\"severe\":\n",
    "            test_labels1.append(2)\n",
    "        else:\n",
    "            test_labels1.append(0)\n",
    "        img = cv2.cvtColor(img, cv2.COLOR_RGB2GRAY)\n",
    "        test_images1.append(img)"
   ]
  },
  {
   "cell_type": "code",
   "execution_count": 8,
   "metadata": {},
   "outputs": [
    {
     "name": "stdout",
     "output_type": "stream",
     "text": [
      "[[[106 104 103 ... 121 104 105]\n",
      "  [103 101 104 ... 114 106 116]\n",
      "  [101  98 102 ... 109 116 117]\n",
      "  ...\n",
      "  [114 134 111 ... 109 127 137]\n",
      "  [109 125 121 ... 115 119 130]\n",
      "  [116 117 131 ... 129 114 132]]\n",
      "\n",
      " [[ 93  94  88 ...  86  94  97]\n",
      "  [ 99 103  94 ...  95  98 105]\n",
      "  [ 96 103  95 ... 100  97 106]\n",
      "  ...\n",
      "  [ 86  83  83 ...  88  81  81]\n",
      "  [ 87  93  88 ...  88  81  80]\n",
      "  [ 86  78  85 ...  84  81  80]]\n",
      "\n",
      " [[ 89  89  89 ...  89  89  85]\n",
      "  [ 96  96  94 ...  89  84  81]\n",
      "  [ 88  88  88 ...  85  77  79]\n",
      "  ...\n",
      "  [ 72  72  69 ...  67  66  64]\n",
      "  [ 71  70  67 ...  63  62  65]\n",
      "  [ 68  66  64 ...  63  62  58]]\n",
      "\n",
      " ...\n",
      "\n",
      " [[129 104 117 ... 113 111 112]\n",
      "  [133 104 118 ... 111 113 112]\n",
      "  [138 119 121 ... 107 112 106]\n",
      "  ...\n",
      "  [125 104 116 ... 128 131 122]\n",
      "  [135 115 106 ... 128 119 120]\n",
      "  [139 119 104 ... 104 114 116]]\n",
      "\n",
      " [[140 130 115 ... 118 122 128]\n",
      "  [137 137 140 ... 142 145 133]\n",
      "  [123 121 127 ... 134 132 127]\n",
      "  ...\n",
      "  [136 133 121 ... 139 135 122]\n",
      "  [129 129 130 ... 123 132 123]\n",
      "  [138 143 133 ... 130 127 124]]\n",
      "\n",
      " [[162 159 161 ... 134 122 128]\n",
      "  [159 164 158 ... 131 125 127]\n",
      "  [159 150 154 ... 126 128 124]\n",
      "  ...\n",
      "  [153 149 148 ... 125 122 120]\n",
      "  [163 160 151 ... 129 120 122]\n",
      "  [153 152 149 ... 132 126 123]]]\n",
      "[1 1 1 1 1 1 1 1 1 1 2 2 2 2 2 2 2 2 2 2 0 0 0 0 0 0 0 0 0 0]\n"
     ]
    }
   ],
   "source": [
    "train_images=np.array(train_images1)\n",
    "print(train_images)\n",
    "train_labels=np.array(train_labels1)\n",
    "print(train_labels)\n",
    "test_images=np.array(test_images1)\n",
    "test_labels=np.array(test_labels1)"
   ]
  },
  {
   "cell_type": "code",
   "execution_count": 6,
   "metadata": {},
   "outputs": [],
   "source": [
    "X_train=train_images\n",
    "y_train=train_labels\n",
    "X_test=test_images\n",
    "y_test=test_labels"
   ]
  },
  {
   "cell_type": "code",
   "execution_count": 6,
   "metadata": {},
   "outputs": [],
   "source": [
    "pickle_out = open(\"X_train\",\"wb\")\n",
    "pickle.dump(X_train, pickle_out)\n",
    "pickle_out.close()\n",
    "\n",
    "pickle_out = open(\"y_train\",\"wb\")\n",
    "pickle.dump(y_train, pickle_out)\n",
    "pickle_out.close()\n",
    "\n",
    "pickle_out = open(\"X_test\",\"wb\")\n",
    "pickle.dump(X_test, pickle_out)\n",
    "pickle_out.close()\n",
    "\n",
    "pickle_out = open(\"y_test\",\"wb\")\n",
    "pickle.dump(y_test, pickle_out)\n",
    "pickle_out.close()"
   ]
  },
  {
   "cell_type": "code",
   "execution_count": null,
   "metadata": {},
   "outputs": [],
   "source": []
  },
  {
   "cell_type": "code",
   "execution_count": null,
   "metadata": {},
   "outputs": [],
   "source": []
  }
 ],
 "metadata": {
  "kernelspec": {
   "display_name": "Python 3",
   "language": "python",
   "name": "python3"
  },
  "language_info": {
   "codemirror_mode": {
    "name": "ipython",
    "version": 3
   },
   "file_extension": ".py",
   "mimetype": "text/x-python",
   "name": "python",
   "nbconvert_exporter": "python",
   "pygments_lexer": "ipython3",
   "version": "3.8.5"
  }
 },
 "nbformat": 4,
 "nbformat_minor": 5
}
