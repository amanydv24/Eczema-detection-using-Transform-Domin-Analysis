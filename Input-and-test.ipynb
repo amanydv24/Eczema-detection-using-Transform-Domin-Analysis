{
 "cells": [
  {
   "cell_type": "code",
   "execution_count": 1,
   "metadata": {},
   "outputs": [],
   "source": [
    "import cv2\n",
    "import pywt\n",
    "import numpy as np\n",
    "import matplotlib.pyplot as plt\n",
    "import numpy as np\n",
    "import pickle\n",
    "from scipy import stats as stats\n",
    "from skimage import feature\n",
    "from skimage.feature import greycoprops,greycomatrix\n",
    "import os\n",
    "import skimage.measure\n",
    "from keras.models import Sequential\n",
    "from keras.layers import Dense, Conv2D, MaxPool2D, Flatten,Activation\n",
    "from keras import layers\n",
    "import tensorflow as tf\n",
    "from keras.models import load_model"
   ]
  },
  {
   "cell_type": "code",
   "execution_count": 2,
   "metadata": {},
   "outputs": [],
   "source": [
    "model=load_model('model.h5')"
   ]
  },
  {
   "cell_type": "code",
   "execution_count": 4,
   "metadata": {},
   "outputs": [],
   "source": [
    "img=cv2.imread('dataset/testCrop/mild-1.jpg')\n",
    "img = cv2.cvtColor(img, cv2.COLOR_RGB2GRAY)"
   ]
  },
  {
   "cell_type": "code",
   "execution_count": 5,
   "metadata": {},
   "outputs": [],
   "source": [
    "rows=[]\n",
    "coeffs=pywt.wavedec(img, 'db1',level=1)\n",
    "cA=coeffs[0]\n",
    "cA = cA / cA.max()\n",
    "cA = 255 * cA \n",
    "cA=cA.astype(np.uint8)\n",
    "g=greycomatrix(cA,[1],[0],normed=True)\n",
    "temp=[np.mean(greycoprops(g, 'energy')),\n",
    "      skimage.measure.shannon_entropy(g),\n",
    "      np.mean(greycoprops(g, 'contrast')),\n",
    "      np.mean(greycoprops(g, 'dissimilarity')),\n",
    "      np.mean(greycoprops(g, 'homogeneity')),\n",
    "      np.mean(greycoprops(g, 'correlation')),\n",
    "      np.mean(greycoprops(g, 'ASM'))]\n",
    "rows.append(temp)\n",
    "rows=np.array(rows)\n",
    "rows = rows.reshape(-1,1,7,1)"
   ]
  },
  {
   "cell_type": "code",
   "execution_count": 6,
   "metadata": {},
   "outputs": [
    {
     "data": {
      "text/plain": [
       "1"
      ]
     },
     "execution_count": 6,
     "metadata": {},
     "output_type": "execute_result"
    }
   ],
   "source": [
    "prediction = model.predict(rows)\n",
    "np.argmax(prediction)"
   ]
  },
  {
   "cell_type": "code",
   "execution_count": null,
   "metadata": {},
   "outputs": [],
   "source": []
  }
 ],
 "metadata": {
  "kernelspec": {
   "display_name": "Python 3",
   "language": "python",
   "name": "python3"
  },
  "language_info": {
   "codemirror_mode": {
    "name": "ipython",
    "version": 3
   },
   "file_extension": ".py",
   "mimetype": "text/x-python",
   "name": "python",
   "nbconvert_exporter": "python",
   "pygments_lexer": "ipython3",
   "version": "3.8.5"
  }
 },
 "nbformat": 4,
 "nbformat_minor": 5
}
